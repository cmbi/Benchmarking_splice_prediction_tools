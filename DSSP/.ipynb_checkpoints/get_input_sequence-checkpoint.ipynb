{
 "cells": [
  {
   "cell_type": "markdown",
   "metadata": {},
   "source": [
    "An input for acceptor site should be a 140-mer string with the AG at positions 69 and 70\n",
    "\n",
    "An input for donor site should be a 140-mer string with the GT at positions 71 and 72"
   ]
  },
  {
   "cell_type": "markdown",
   "metadata": {},
   "source": [
    "# Imports"
   ]
  },
  {
   "cell_type": "code",
   "execution_count": null,
   "metadata": {},
   "outputs": [],
   "source": [
    "import pandas as pd\n",
    "import numpy as np\n",
    "import pybedtools\n",
    "from Bio import SeqIO\n",
    "import hgvs\n",
    "from hgvs.easy import *"
   ]
  },
  {
   "cell_type": "markdown",
   "metadata": {},
   "source": [
    "# Functions"
   ]
  },
  {
   "cell_type": "code",
   "execution_count": null,
   "metadata": {},
   "outputs": [],
   "source": [
    "def reverse_sequence(s):\n",
    "    ''' Converts a sequence into the sequence of the complementary strand'''\n",
    "    new_sequence = ''\n",
    "    for base in s:\n",
    "        if base == 'A':\n",
    "            new_sequence = new_sequence + 'T'\n",
    "        elif base == 'T':\n",
    "            new_sequence = new_sequence + 'A'\n",
    "        elif base == 'G':\n",
    "            new_sequence = new_sequence + 'C'\n",
    "        elif base == 'C':\n",
    "            new_sequence = new_sequence + 'G'\n",
    "        else:\n",
    "            new_sequence = new_sequence + base\n",
    "    return new_sequence[::-1]"
   ]
  },
  {
   "cell_type": "markdown",
   "metadata": {},
   "source": [
    "# Define Variables"
   ]
  },
  {
   "cell_type": "code",
   "execution_count": null,
   "metadata": {},
   "outputs": [],
   "source": [
    "gene = 'MYBPC3'\n",
    "variant = 'NCSS'\n",
    "\n",
    "length = 140\n",
    "excel_file = '../variants_scores.xlsx\n",
    "\n",
    "if gene == 'ABCA4':\n",
    "    genome = 'GRCh37'\n",
    "    chromosome = 1\n",
    "    reverse = True\n",
    "    # reference fasta can be downloaded from http://ftp.ensembl.org/pub/release-75/fasta/homo_sapiens/dna/Homo_sapiens.GRCh37.75.dna.chromosome.1.fa.gz\n",
    "    reference_fasta = '../Homo_sapiens.GRCh37.dna.chromosome.1.fa'\n",
    "    if variant == 'NCSS':\n",
    "        dataset = 'ABCA4_NCSS'\n",
    "        sheet_name = 'NCSS'\n",
    "        exon_var = ['c.4538A>C', 'c.6478A>G', 'c.4633A>G', 'c.6385A>G', 'c.3812A>G', 'c.4538A>G']\n",
    "    elif variant == 'DI':\n",
    "        dataset = 'ABCA4_DI'\n",
    "        sheet_name = 'DI'\n",
    "        exon_var = []\n",
    "        \n",
    "elif gene == 'MYBPC3':\n",
    "    genome = 'GRCh37'\n",
    "    chromosome = 11\n",
    "    reverse = True\n",
    "    # reference fasta can be downloaded from https://www.ncbi.nlm.nih.gov/nuccore/NC_000011.9?report=fasta\n",
    "    reference_fasta = '../chr11.fa'\n",
    "    if variant == 'NCSS':\n",
    "        dataset = 'MYBPC3_NCSS'\n",
    "        sheet_name = 'NCSS'\n",
    "        exon_var = ['c.1456T>G', 'c.1789C>T', 'c.2307C>T', 'c.2601C>A', 'c.2601C>G', 'c.405A>G', 'c.2993A>G', 'c.853G>A']\n"
   ]
  },
  {
   "cell_type": "markdown",
   "metadata": {},
   "source": [
    "# Read in the data "
   ]
  },
  {
   "cell_type": "code",
   "execution_count": null,
   "metadata": {},
   "outputs": [],
   "source": [
    "# Read the second column of the excel sheet and store the variants in a list\n",
    "df = pd.read_excel(excel_file, sheet_name ,index_col=None, usecols = 'B')\n",
    "variant_list = df['genomic variant'].tolist()\n",
    "\n",
    "# Store the cDNA variant information\n",
    "df2 = pd.read_excel(excel_file, sheet_name ,index_col=None, usecols = 'A')\n",
    "cDNA = df2['cDNA variant'].tolist()\n",
    "\n",
    "# Also store if it is a donor or acceptor site\n",
    "df3 = pd.read_excel(excel_file, sheet_name ,index_col=None, usecols = 'D')\n",
    "ss = df3['affects'].tolist()"
   ]
  },
  {
   "cell_type": "markdown",
   "metadata": {},
   "source": [
    "# 1) Store the variant information"
   ]
  },
  {
   "cell_type": "code",
   "execution_count": null,
   "metadata": {},
   "outputs": [],
   "source": [
    "info = []\n",
    "\n",
    "hp = hgvs.parser.Parser()\n",
    "for i in range(len(variant_list)):\n",
    "    variant = variant_list[i]\n",
    "    v = hp.parse_hgvs_variant('Chr' + str(chromosome) + genome + ':' + variant)\n",
    "    \n",
    "    # Store the variant information so that it can be accessed separately\n",
    "    var_info = []\n",
    "    var_info.append(v.posedit.pos.start.base)\n",
    "    var_info.append(v.posedit.pos.end.base)\n",
    "    var_info.append(v.posedit.edit.ref)\n",
    "    var_info.append(v.posedit.edit.alt)\n",
    "    \n",
    "    # add if it affects a donor or acceptor\n",
    "    var_info.append(ss[i])\n",
    "\n",
    "    # check if the variant is located upstream or downstream of the splice site\n",
    "    cdna = cDNA[i]\n",
    "    if '-' in cdna:\n",
    "        # check if it is a deletion\n",
    "        if 'del' in cdna:\n",
    "            # depending on the length of the deletion (on or multiple bases) a different handling is required\n",
    "            if '_' in cdna:\n",
    "                loc = int((cdna.split('-')[1]).split('_')[0])\n",
    "            else:\n",
    "                print(cdna)\n",
    "                loc = int((cdna.split('-')[1][:-3]))\n",
    "        # if the varant is not a deletion, the cdna string can be split to get the location of the variant\n",
    "        else:\n",
    "            loc = int((cdna.split('-')[1]).split('>')[0][:-1])\n",
    "\n",
    "    # perform the same actions for the downsstream variants but now split the string at + instead of -\n",
    "    elif '+' in cdna:\n",
    "        if 'del' in cdna:\n",
    "            if '_' in cdna:\n",
    "                loc = int((cdna.split('+')[1]).split('_')[0])\n",
    "            else:\n",
    "                loc = int((cdna.split('+')[1][:-3]))\n",
    "                \n",
    "        else:\n",
    "            loc = int((cdna.split('+')[1]).split('>')[0][:-1])            \n",
    "    else:\n",
    "        loc = 0\n",
    "        \n",
    "    # if the variant is located at the second last position of the exon, a different location is needed (-1)    \n",
    "    if cdna in exon_var:\n",
    "        var_info.append(-1)\n",
    "    else:\n",
    "        var_info.append(loc)\n",
    "    \n",
    "    info.append(var_info)\n",
    "    "
   ]
  },
  {
   "cell_type": "markdown",
   "metadata": {},
   "source": [
    "# 2) Create the BED file"
   ]
  },
  {
   "cell_type": "code",
   "execution_count": null,
   "metadata": {},
   "outputs": [],
   "source": [
    "# The BED file defines the sequence range that is written to the fasta file later on\n",
    "with open ((dataset + '.bed'), 'w') as file:\n",
    "    for i in range(len(info)):\n",
    "        # An input for acceptor site should be a 140-mer string with the AG at positions 69 and 70\n",
    "        if ss[i] == 'acceptor':\n",
    "            var_loc = info[i][0]\n",
    "            loc = var_loc - info[i][5] + 1\n",
    "        \n",
    "        # An input for donor site should be a 140-mer string with the GT at positions 71 and 72\n",
    "        else:\n",
    "            var_loc = info[i][0]\n",
    "            loc = var_loc + info[i][5]\n",
    "            \n",
    "        # If the variant contains a deletion, a longer sequence is needed to end up with a 140nt long sequence\n",
    "        if 'del' in cDNA[i]:\n",
    "            # get the length of the deletion\n",
    "            l = info[i][1] - info[i][0]\n",
    "            file.write('chr' + str(chromosome) + '\\t' + str(loc-(length//2+2)) + '\\t' + str(loc+(length//2-1)+l) + '\\t\\t\\t' + '-' + '\\n')\n",
    "            \n",
    "        else:     \n",
    "            file.write('chr' + str(chromosome) + '\\t' + str(loc-(length//2+1)) + '\\t' + str(loc+(length//2-1)) + '\\t\\t\\t' + '-' + '\\n')"
   ]
  },
  {
   "cell_type": "markdown",
   "metadata": {},
   "source": [
    "# 3) Get the sequence for each variant and store it in a fasta file"
   ]
  },
  {
   "cell_type": "code",
   "execution_count": null,
   "metadata": {},
   "outputs": [],
   "source": [
    "a = pybedtools.BedTool((dataset + '.bed'))\n",
    "a = a.sequence(fi = reference_fasta, fo = (dataset + '.fa.out'))"
   ]
  },
  {
   "cell_type": "markdown",
   "metadata": {},
   "source": [
    "# 4) Change the mutated base in the fasta sequence"
   ]
  },
  {
   "cell_type": "code",
   "execution_count": null,
   "metadata": {
    "scrolled": false
   },
   "outputs": [],
   "source": [
    "fasta_sequences = SeqIO.parse(open((dataset + '.fa.out')),'fasta')\n",
    "\n",
    "# open the new fasta file to save the mutated sequences\n",
    "with open ((dataset + '_donor.fa.out'), 'w') as file:\n",
    "    with open ((dataset + '_acceptor.fa.out'), 'w') as file2:\n",
    "        i = 0\n",
    "        for fasta in fasta_sequences:\n",
    "            name, sequence = fasta.id, str(fasta.seq)\n",
    "            \n",
    "            print(cDNA[i])\n",
    "\n",
    "            # write the reference sequence to the file\n",
    "            if reverse == True:\n",
    "                wt_sequence = reverse_sequence(sequence)[:140]\n",
    "\n",
    "            else:\n",
    "                wt_sequence = sequence\n",
    "\n",
    "            # print([m.start() for m in re.finditer('GT', wt_sequence)])\n",
    "            if ss[i] == 'acceptor':\n",
    "                #print(wt_sequence[68:70])\n",
    "                assert wt_sequence[68:70] == 'AG'\n",
    "            else:\n",
    "                #print(cDNA[i], wt_sequence[70:72])\n",
    "                assert wt_sequence[70:72] in ['GT','GC']\n",
    "\n",
    "            # get the location of the variant\n",
    "            if ss[i] == 'acceptor':\n",
    "                loc = length//2 + info[i][5] - 1\n",
    "            else:\n",
    "                loc = length//2 - info[i][5]\n",
    "\n",
    "            # variants where one base is changed\n",
    "            if info[i][0] == info[i][1] and info[i][2] != '':\n",
    "                assert sequence[loc] == info[i][2]\n",
    "                # change the base at the variant position\n",
    "                l = list(sequence)\n",
    "                l[loc] = info[i][3]\n",
    "                s = ''.join(l)\n",
    "                # test if the base at the variant position in the sequence is now the same as the mutated base\n",
    "                assert s[loc] == info[i][3]  \n",
    "\n",
    "            # filter for variants where one single base is deleted\n",
    "            elif info[i][0] == info[i][1]:\n",
    "                s = sequence[:loc+1] + sequence[(loc+2):]\n",
    "\n",
    "            # handle deletions with more bases\n",
    "            else:\n",
    "                size = info[i][1] - info[i][0] + 1\n",
    "                s = sequence[:loc + 1] + sequence[(loc + size + 1):]\n",
    "\n",
    "            # write the result to a file\n",
    "            if reverse == True:\n",
    "                s = reverse_sequence(s)\n",
    "                \n",
    "            if ss[i] == 'acceptor':\n",
    "                file2.write('>' + cDNA[i] + '\\n' + wt_sequence + '\\n') \n",
    "                file2.write('>' + cDNA[i] + '_var\\n' + s + '\\n') \n",
    "            else:\n",
    "                file.write('>' + cDNA[i] + '\\n' + wt_sequence + '\\n') \n",
    "                file.write('>' + cDNA[i] + '_var\\n' + s + '\\n') \n",
    "\n",
    "            i += 1"
   ]
  }
 ],
 "metadata": {
  "kernelspec": {
   "display_name": "Python 3",
   "language": "python",
   "name": "python3"
  },
  "language_info": {
   "codemirror_mode": {
    "name": "ipython",
    "version": 3
   },
   "file_extension": ".py",
   "mimetype": "text/x-python",
   "name": "python",
   "nbconvert_exporter": "python",
   "pygments_lexer": "ipython3",
   "version": "3.7.6"
  }
 },
 "nbformat": 4,
 "nbformat_minor": 4
}
