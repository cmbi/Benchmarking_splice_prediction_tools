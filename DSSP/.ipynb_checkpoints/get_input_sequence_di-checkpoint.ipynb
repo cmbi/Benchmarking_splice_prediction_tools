{
 "cells": [
  {
   "cell_type": "markdown",
   "metadata": {},
   "source": [
    "An input for acceptor site should be a 140-mer string with the AG at positions 69 and 70\n",
    "\n",
    "An input for donor site should be a 140-mer string with the GT at positions 71 and 72"
   ]
  },
  {
   "cell_type": "markdown",
   "metadata": {},
   "source": [
    "# Imports"
   ]
  },
  {
   "cell_type": "code",
   "execution_count": null,
   "metadata": {},
   "outputs": [],
   "source": [
    "import pandas as pd\n",
    "import numpy as np\n",
    "import pybedtools\n",
    "from Bio import SeqIO\n",
    "import hgvs\n",
    "from hgvs.easy import *\n",
    "import sys\n",
    "sys.path.insert(1, '../')\n",
    "from functions import reverse_sequence"
   ]
  },
  {
   "cell_type": "markdown",
   "metadata": {},
   "source": [
    "# Define Variables"
   ]
  },
  {
   "cell_type": "code",
   "execution_count": 12,
   "metadata": {},
   "outputs": [],
   "source": [
    "gene = 'ABCA4'\n",
    "variant = 'DI'\n",
    "length = 140\n",
    "\n",
    "excel_file = '../variant_scores.xlsx'\n",
    "genome = 'GRCh37'\n",
    "chromosome = 1\n",
    "reverse = True\n",
    "# reference fasta can be downloaded from http://ftp.ensembl.org/pub/release-75/fasta/homo_sapiens/dna/Homo_sapiens.GRCh37.75.dna.chromosome.1.fa.gz\n",
    "reference_fasta = '../Homo_sapiens.GRCh37.dna.chromosome.1.fa'\n",
    "dataset = 'ABCA4_DI'"
   ]
  },
  {
   "cell_type": "markdown",
   "metadata": {},
   "source": [
    "# Read in the data "
   ]
  },
  {
   "cell_type": "code",
   "execution_count": 13,
   "metadata": {},
   "outputs": [],
   "source": [
    "# Read the second column of the excel sheet and store the variants in a list\n",
    "df = pd.read_excel(excel_file, dataset ,index_col=None, usecols = 'B')\n",
    "variant_list = df['genomic variant'].tolist()\n",
    "\n",
    "# Store the cDNA variant information\n",
    "df2 = pd.read_excel(excel_file, dataset ,index_col=None, usecols = 'A')\n",
    "cDNA = df2['cDNA variant'].tolist()\n",
    "\n",
    "# Also store if it is a donor or acceptor site\n",
    "df3 = pd.read_excel(excel_file, dataset ,index_col=None, usecols = 'D')\n",
    "ss = df3['affects'].tolist()\n",
    "\n",
    "# Store the distance to the splice site\n",
    "df4 = pd.read_excel(excel_file, dataset ,index_col=None, usecols = 'E')\n",
    "positions = df4['position ss'].tolist()"
   ]
  },
  {
   "cell_type": "markdown",
   "metadata": {},
   "source": [
    "# 1) Store the variant information"
   ]
  },
  {
   "cell_type": "code",
   "execution_count": 14,
   "metadata": {},
   "outputs": [],
   "source": [
    "info = []\n",
    "\n",
    "hp = hgvs.parser.Parser()\n",
    "for i in range(len(variant_list)):\n",
    "    variant = variant_list[i]\n",
    "    v = hp.parse_hgvs_variant('Chr' + str(chromosome) + genome + ':' + variant)\n",
    "    \n",
    "    # Store the variant information so that it can be accessed separately\n",
    "    var_info = []\n",
    "    var_info.append(v.posedit.pos.start.base)\n",
    "    var_info.append(v.posedit.pos.end.base)\n",
    "    var_info.append(v.posedit.edit.ref)\n",
    "    var_info.append(v.posedit.edit.alt)\n",
    "    \n",
    "    # add if it affects a donor or acceptor\n",
    "    var_info.append(ss[i])\n",
    "    \n",
    "    # add the distance to the splice site\n",
    "    var_info.append(positions[i])\n",
    "    \n",
    "    info.append(var_info)\n",
    "    "
   ]
  },
  {
   "cell_type": "markdown",
   "metadata": {},
   "source": [
    "# 2) Create the BED file"
   ]
  },
  {
   "cell_type": "code",
   "execution_count": 15,
   "metadata": {},
   "outputs": [],
   "source": [
    "# The BED file defines the sequence range that is written to the fasta file later on\n",
    "with open ((dataset + '.bed'), 'w') as file:\n",
    "    for i in range(len(info)):\n",
    "        # An input for acceptor site should be a 140-mer string with the AG at positions 69 and 70\n",
    "        if ss[i] == 'acceptor':\n",
    "            var_loc = info[i][0]\n",
    "            loc = var_loc - info[i][5] + 1\n",
    "        \n",
    "        # An input for donor site should be a 140-mer string with the GT at positions 71 and 72\n",
    "        else:\n",
    "            var_loc = info[i][0]\n",
    "            loc = var_loc + info[i][5]\n",
    "            \n",
    "        # If the variant contains a deletion, a longer sequence is needed to end up with a 140nt long sequence\n",
    "        if 'del' in cDNA[i]:\n",
    "            # get the length of the deletion\n",
    "            l = info[i][1] - info[i][0]\n",
    "            # For deletions affecting the donor site additional bases are added to the end of the sequence\n",
    "            if ss[i] == 'donor':\n",
    "                file.write('chr' + str(chromosome) + '\\t' + str(loc-(length//2+2)) + '\\t' + str(loc+(length//2-1)+l) + '\\t\\t\\t' + '-' + '\\n')\n",
    "            # For deletions affecting the acceptor site additonal bases are added to the beginning of the sequence\n",
    "            else:\n",
    "                file.write('chr' + str(chromosome) + '\\t' + str(loc-(length//2+1)-l) + '\\t' + str(loc+(length//2)) + '\\t\\t\\t' + '-' + '\\n')\n",
    "                \n",
    "        else:     \n",
    "            file.write('chr' + str(chromosome) + '\\t' + str(loc-(length//2+1)) + '\\t' + str(loc+(length//2-1)) + '\\t\\t\\t' + '-' + '\\n')"
   ]
  },
  {
   "cell_type": "markdown",
   "metadata": {},
   "source": [
    "# 3) Get the sequence for each variant and store it in a fasta file"
   ]
  },
  {
   "cell_type": "code",
   "execution_count": 17,
   "metadata": {},
   "outputs": [
    {
     "ename": "NotImplementedError",
     "evalue": "\"fastaFromBed\" does not appear to be installed or on the path, so this method is disabled.  Please install a more recent version of BEDTools and re-import to use this method.",
     "output_type": "error",
     "traceback": [
      "\u001b[0;31m---------------------------------------------------------------------------\u001b[0m",
      "\u001b[0;31mNotImplementedError\u001b[0m                       Traceback (most recent call last)",
      "\u001b[0;32m<ipython-input-17-24ce51f85efe>\u001b[0m in \u001b[0;36m<module>\u001b[0;34m\u001b[0m\n\u001b[1;32m      1\u001b[0m \u001b[0ma\u001b[0m \u001b[0;34m=\u001b[0m \u001b[0mpybedtools\u001b[0m\u001b[0;34m.\u001b[0m\u001b[0mBedTool\u001b[0m\u001b[0;34m(\u001b[0m\u001b[0;34m(\u001b[0m\u001b[0mdataset\u001b[0m \u001b[0;34m+\u001b[0m \u001b[0;34m'.bed'\u001b[0m\u001b[0;34m)\u001b[0m\u001b[0;34m)\u001b[0m\u001b[0;34m\u001b[0m\u001b[0;34m\u001b[0m\u001b[0m\n\u001b[0;32m----> 2\u001b[0;31m \u001b[0ma\u001b[0m \u001b[0;34m=\u001b[0m \u001b[0ma\u001b[0m\u001b[0;34m.\u001b[0m\u001b[0msequence\u001b[0m\u001b[0;34m(\u001b[0m\u001b[0mfi\u001b[0m \u001b[0;34m=\u001b[0m \u001b[0mreference_fasta\u001b[0m\u001b[0;34m,\u001b[0m \u001b[0mfo\u001b[0m \u001b[0;34m=\u001b[0m \u001b[0;34m(\u001b[0m\u001b[0mdataset\u001b[0m \u001b[0;34m+\u001b[0m \u001b[0;34m'.fa.out'\u001b[0m\u001b[0;34m)\u001b[0m\u001b[0;34m)\u001b[0m\u001b[0;34m\u001b[0m\u001b[0;34m\u001b[0m\u001b[0m\n\u001b[0m",
      "\u001b[0;32m~/opt/anaconda3/lib/python3.8/site-packages/pybedtools/bedtool.py\u001b[0m in \u001b[0;36mdecorated\u001b[0;34m(self, *args, **kwargs)\u001b[0m\n\u001b[1;32m    915\u001b[0m             \u001b[0;31m# this calls the actual method in the first place; *result* is\u001b[0m\u001b[0;34m\u001b[0m\u001b[0;34m\u001b[0m\u001b[0;34m\u001b[0m\u001b[0m\n\u001b[1;32m    916\u001b[0m             \u001b[0;31m# whatever you get back\u001b[0m\u001b[0;34m\u001b[0m\u001b[0;34m\u001b[0m\u001b[0;34m\u001b[0m\u001b[0m\n\u001b[0;32m--> 917\u001b[0;31m             \u001b[0mresult\u001b[0m \u001b[0;34m=\u001b[0m \u001b[0mmethod\u001b[0m\u001b[0;34m(\u001b[0m\u001b[0mself\u001b[0m\u001b[0;34m,\u001b[0m \u001b[0;34m*\u001b[0m\u001b[0margs\u001b[0m\u001b[0;34m,\u001b[0m \u001b[0;34m**\u001b[0m\u001b[0mkwargs\u001b[0m\u001b[0;34m)\u001b[0m\u001b[0;34m\u001b[0m\u001b[0;34m\u001b[0m\u001b[0m\n\u001b[0m\u001b[1;32m    918\u001b[0m \u001b[0;34m\u001b[0m\u001b[0m\n\u001b[1;32m    919\u001b[0m             \u001b[0;31m# add appropriate tags\u001b[0m\u001b[0;34m\u001b[0m\u001b[0;34m\u001b[0m\u001b[0;34m\u001b[0m\u001b[0m\n",
      "\u001b[0;32m~/opt/anaconda3/lib/python3.8/site-packages/pybedtools/bedtool.py\u001b[0m in \u001b[0;36mnot_implemented_func\u001b[0;34m(*args, **kwargs)\u001b[0m\n\u001b[1;32m    238\u001b[0m \u001b[0;34m\u001b[0m\u001b[0m\n\u001b[1;32m    239\u001b[0m             \u001b[0;32mdef\u001b[0m \u001b[0mnot_implemented_func\u001b[0m\u001b[0;34m(\u001b[0m\u001b[0;34m*\u001b[0m\u001b[0margs\u001b[0m\u001b[0;34m,\u001b[0m \u001b[0;34m**\u001b[0m\u001b[0mkwargs\u001b[0m\u001b[0;34m)\u001b[0m\u001b[0;34m:\u001b[0m\u001b[0;34m\u001b[0m\u001b[0;34m\u001b[0m\u001b[0m\n\u001b[0;32m--> 240\u001b[0;31m                 \u001b[0;32mraise\u001b[0m \u001b[0mNotImplementedError\u001b[0m\u001b[0;34m(\u001b[0m\u001b[0mhelp_str\u001b[0m\u001b[0;34m)\u001b[0m\u001b[0;34m\u001b[0m\u001b[0;34m\u001b[0m\u001b[0m\n\u001b[0m\u001b[1;32m    241\u001b[0m \u001b[0;34m\u001b[0m\u001b[0m\n\u001b[1;32m    242\u001b[0m             \u001b[0;32mreturn\u001b[0m \u001b[0mnot_implemented_func\u001b[0m\u001b[0;34m\u001b[0m\u001b[0;34m\u001b[0m\u001b[0m\n",
      "\u001b[0;31mNotImplementedError\u001b[0m: \"fastaFromBed\" does not appear to be installed or on the path, so this method is disabled.  Please install a more recent version of BEDTools and re-import to use this method."
     ]
    }
   ],
   "source": [
    "a = pybedtools.BedTool((dataset + '.bed'))\n",
    "a = a.sequence(fi = reference_fasta, fo = (dataset + '.fa.out'))"
   ]
  },
  {
   "cell_type": "markdown",
   "metadata": {},
   "source": [
    "# 4) Change the mutated base in the fasta sequence"
   ]
  },
  {
   "cell_type": "code",
   "execution_count": 10,
   "metadata": {
    "scrolled": false
   },
   "outputs": [
    {
     "ename": "FileNotFoundError",
     "evalue": "[Errno 2] No such file or directory: 'ABCA4_DI.fa.out'",
     "output_type": "error",
     "traceback": [
      "\u001b[0;31m---------------------------------------------------------------------------\u001b[0m",
      "\u001b[0;31mFileNotFoundError\u001b[0m                         Traceback (most recent call last)",
      "\u001b[0;32m<ipython-input-10-bc3503e27d42>\u001b[0m in \u001b[0;36m<module>\u001b[0;34m\u001b[0m\n\u001b[0;32m----> 1\u001b[0;31m \u001b[0mfasta_sequences\u001b[0m \u001b[0;34m=\u001b[0m \u001b[0mSeqIO\u001b[0m\u001b[0;34m.\u001b[0m\u001b[0mparse\u001b[0m\u001b[0;34m(\u001b[0m\u001b[0mopen\u001b[0m\u001b[0;34m(\u001b[0m\u001b[0;34m(\u001b[0m\u001b[0mdataset\u001b[0m \u001b[0;34m+\u001b[0m \u001b[0;34m'.fa.out'\u001b[0m\u001b[0;34m)\u001b[0m\u001b[0;34m)\u001b[0m\u001b[0;34m,\u001b[0m\u001b[0;34m'fasta'\u001b[0m\u001b[0;34m)\u001b[0m\u001b[0;34m\u001b[0m\u001b[0;34m\u001b[0m\u001b[0m\n\u001b[0m\u001b[1;32m      2\u001b[0m \u001b[0;34m\u001b[0m\u001b[0m\n\u001b[1;32m      3\u001b[0m \u001b[0;31m# open the new fasta file to save the mutated sequences (separate file for donor and acceptor variants)\u001b[0m\u001b[0;34m\u001b[0m\u001b[0;34m\u001b[0m\u001b[0;34m\u001b[0m\u001b[0m\n\u001b[1;32m      4\u001b[0m \u001b[0;32mwith\u001b[0m \u001b[0mopen\u001b[0m \u001b[0;34m(\u001b[0m\u001b[0;34m(\u001b[0m\u001b[0mdataset\u001b[0m \u001b[0;34m+\u001b[0m \u001b[0;34m'_donor.fa.out'\u001b[0m\u001b[0;34m)\u001b[0m\u001b[0;34m,\u001b[0m \u001b[0;34m'w'\u001b[0m\u001b[0;34m)\u001b[0m \u001b[0;32mas\u001b[0m \u001b[0mfile\u001b[0m\u001b[0;34m:\u001b[0m\u001b[0;34m\u001b[0m\u001b[0;34m\u001b[0m\u001b[0m\n\u001b[1;32m      5\u001b[0m     \u001b[0;32mwith\u001b[0m \u001b[0mopen\u001b[0m \u001b[0;34m(\u001b[0m\u001b[0;34m(\u001b[0m\u001b[0mdataset\u001b[0m \u001b[0;34m+\u001b[0m \u001b[0;34m'_acceptor.fa.out'\u001b[0m\u001b[0;34m)\u001b[0m\u001b[0;34m,\u001b[0m \u001b[0;34m'w'\u001b[0m\u001b[0;34m)\u001b[0m \u001b[0;32mas\u001b[0m \u001b[0mfile2\u001b[0m\u001b[0;34m:\u001b[0m\u001b[0;34m\u001b[0m\u001b[0;34m\u001b[0m\u001b[0m\n",
      "\u001b[0;31mFileNotFoundError\u001b[0m: [Errno 2] No such file or directory: 'ABCA4_DI.fa.out'"
     ]
    }
   ],
   "source": [
    "fasta_sequences = SeqIO.parse(open((dataset + '.fa.out')),'fasta')\n",
    "\n",
    "# open the new fasta file to save the mutated sequences (separate file for donor and acceptor variants)\n",
    "with open ((dataset + '_donor.fa.out'), 'w') as file:\n",
    "    with open ((dataset + '_acceptor.fa.out'), 'w') as file2:\n",
    "        i = 0\n",
    "        for fasta in fasta_sequences:\n",
    "            # get the name and the sequence\n",
    "            name, sequence = fasta.id, str(fasta.seq)\n",
    "            \n",
    "            # reverse the sequence if necessasry\n",
    "            if reverse == True:\n",
    "                if ss[i] == 'acceptor':\n",
    "                    wt_sequence = reverse_sequence(sequence)[:140]\n",
    "                if ss[i] == 'acceptor':\n",
    "                    wt_sequence = reverse_sequence(sequence)[-140:]\n",
    "\n",
    "            else:\n",
    "                wt_sequence = sequence\n",
    "\n",
    "            # get the location of the variant\n",
    "            if ss[i] == 'acceptor':\n",
    "                loc = length//2 + info[i][5] - 1\n",
    "            else:\n",
    "                loc = length//2 - info[i][5]\n",
    "\n",
    "            # change tha base at the variant position    \n",
    "            # variants where one base is changed\n",
    "            if info[i][0] == info[i][1] and info[i][2] != '':\n",
    "                assert sequence[loc] == info[i][2]\n",
    "                # change the base at the variant position\n",
    "                l = list(sequence)\n",
    "                l[loc] = info[i][3]\n",
    "                s = ''.join(l)\n",
    "                # test if the base at the variant position in the sequence is now the same as the mutated base\n",
    "                assert s[loc] == info[i][3]  \n",
    "\n",
    "            # filter for variants where one single base is deleted\n",
    "            elif info[i][0] == info[i][1]:\n",
    "                s = sequence[:loc+1] + sequence[(loc+2):]\n",
    "\n",
    "            # handle deletions with more bases\n",
    "            else:\n",
    "                size = info[i][1] - info[i][0] + 1\n",
    "                s = sequence[:loc + 1] + sequence[(loc + size + 1):]\n",
    "\n",
    "            #if necessary reverse the sequence\n",
    "            if reverse == True:\n",
    "                s = reverse_sequence(s)\n",
    "                \n",
    "            # Check if the bases at the donor/acceptor position are correct\n",
    "            if ss[i] == 'acceptor':\n",
    "                #print(df['cDNA variant'][i], s[68:70], len(s))\n",
    "                assert s[68:70] == 'AG'\n",
    "            else:\n",
    "                #print(df['cDNA variant'][i], s[70:72])\n",
    "                assert s[70:72] in ['GT','GC']\n",
    "                \n",
    "            # write the result to a file\n",
    "            if ss[i] == 'acceptor':\n",
    "                file2.write('>' + cDNA[i] + '\\n' + wt_sequence + '\\n') \n",
    "                file2.write('>' + cDNA[i] + '_var\\n' + s + '\\n') \n",
    "            else:\n",
    "                file.write('>' + cDNA[i] + '\\n' + wt_sequence + '\\n') \n",
    "                file.write('>' + cDNA[i] + '_var\\n' + s + '\\n') \n",
    "\n",
    "            i += 1"
   ]
  },
  {
   "cell_type": "code",
   "execution_count": null,
   "metadata": {},
   "outputs": [],
   "source": []
  }
 ],
 "metadata": {
  "kernelspec": {
   "display_name": "Python 3",
   "language": "python",
   "name": "python3"
  },
  "language_info": {
   "codemirror_mode": {
    "name": "ipython",
    "version": 3
   },
   "file_extension": ".py",
   "mimetype": "text/x-python",
   "name": "python",
   "nbconvert_exporter": "python",
   "pygments_lexer": "ipython3",
   "version": "3.8.3-final"
  }
 },
 "nbformat": 4,
 "nbformat_minor": 4
}
