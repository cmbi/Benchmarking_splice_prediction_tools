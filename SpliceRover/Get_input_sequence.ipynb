{
 "cells": [
  {
   "cell_type": "markdown",
   "metadata": {},
   "source": [
    "# Imports"
   ]
  },
  {
   "cell_type": "code",
   "execution_count": null,
   "metadata": {},
   "outputs": [],
   "source": [
    "import pandas as pd\n",
    "import numpy as np\n",
    "import pybedtools\n",
    "from Bio import SeqIO\n",
    "import hgvs\n",
    "from hgvs.easy import *"
   ]
  },
  {
   "cell_type": "markdown",
   "metadata": {},
   "source": [
    "# Functions"
   ]
  },
  {
   "cell_type": "code",
   "execution_count": null,
   "metadata": {},
   "outputs": [],
   "source": [
    "def reverse_sequence(s):\n",
    "    ''' Converts a sequence into the sequence of the complementary strand'''\n",
    "    new_sequence = ''\n",
    "    for base in s:\n",
    "        if base == 'A':\n",
    "            new_sequence = new_sequence + 'T'\n",
    "        elif base == 'T':\n",
    "            new_sequence = new_sequence + 'A'\n",
    "        elif base == 'G':\n",
    "            new_sequence = new_sequence + 'C'\n",
    "        elif base == 'C':\n",
    "            new_sequence = new_sequence + 'G'\n",
    "        else:\n",
    "            new_sequence = new_sequence + base\n",
    "    return new_sequence[::-1]"
   ]
  },
  {
   "cell_type": "markdown",
   "metadata": {},
   "source": [
    "# Define Variables"
   ]
  },
  {
   "cell_type": "code",
   "execution_count": null,
   "metadata": {},
   "outputs": [],
   "source": [
    "gene = 'MYBPC3'\n",
    "variant = 'NCSS'\n",
    "length = 410\n",
    "\n",
    "excel_file = '../variants_scores.xlsx'\n",
    "\n",
    "if gene == 'ABCA4':\n",
    "    genome = 'GRCh37'\n",
    "    chromosome = 1\n",
    "    reverse = True\n",
    "    # reference fasta can be downloaded from http://ftp.ensembl.org/pub/release-75/fasta/homo_sapiens/dna/Homo_sapiens.GRCh37.75.dna.chromosome.1.fa.gz\n",
    "    reference_fasta = '../Homo_sapiens.GRCh37.dna.chromosome.1.fa'\n",
    "    if variant == 'NCSS':\n",
    "        dataset = 'ABCA4_NCSS'\n",
    "        sheet_name = 'NCSS'\n",
    "    elif variant == 'DI':\n",
    "        dataset = 'ABCA4_DI'\n",
    "        sheet_name = 'DI'\n",
    "        \n",
    "elif gene == 'MYBPC3':\n",
    "    genome = 'GRCh37'\n",
    "    chromosome = 11\n",
    "    reverse = True\n",
    "    # reference fasta can be downloaded from https://www.ncbi.nlm.nih.gov/nuccore/NC_000011.9?report=fasta\n",
    "    reference_fasta = '../chr11.fa'\n",
    "    if variant == 'NCSS':\n",
    "        dataset = 'MYBPC3_NCSS'\n",
    "        sheet_name = 'NCSS'\n",
    "    elif variant == 'DI':\n",
    "        dataset = 'MYBPC3_DI'\n",
    "        sheet_name = 'DI'"
   ]
  },
  {
   "cell_type": "markdown",
   "metadata": {},
   "source": [
    "# Read in the data "
   ]
  },
  {
   "cell_type": "code",
   "execution_count": null,
   "metadata": {},
   "outputs": [],
   "source": [
    "# Read the second column of the excel sheet and store the variants in a list\n",
    "df = pd.read_excel(excel_file, sheet_name ,index_col=None, usecols = 'B')\n",
    "variant_list = df['genomic variant'].tolist()"
   ]
  },
  {
   "cell_type": "markdown",
   "metadata": {},
   "source": [
    "# 1) Store the variant information"
   ]
  },
  {
   "cell_type": "code",
   "execution_count": null,
   "metadata": {},
   "outputs": [],
   "source": [
    "# Store the variant information so that it can be accessed separately\n",
    "\n",
    "info = []\n",
    "\n",
    "hp = hgvs.parser.Parser()\n",
    "for i in range(len(variant_list)):\n",
    "    variant = variant_list[i]\n",
    "    v = hp.parse_hgvs_variant('Chr' + str(chromosome) + genome + ':' + variant)\n",
    "    \n",
    "    var_info = []\n",
    "    var_info.append(v.posedit.pos.start.base)\n",
    "    var_info.append(v.posedit.pos.end.base)\n",
    "    var_info.append(v.posedit.edit.ref)\n",
    "    var_info.append(v.posedit.edit.alt)\n",
    "    info.append(var_info)"
   ]
  },
  {
   "cell_type": "markdown",
   "metadata": {},
   "source": [
    "# 2) Create the BED file"
   ]
  },
  {
   "cell_type": "code",
   "execution_count": null,
   "metadata": {},
   "outputs": [],
   "source": [
    "# The BED file defines the sequence range that is written to the fasta file later on\n",
    "with open ((dataset + '.bed'), 'w') as file:\n",
    "    for i in info:\n",
    "        loc = i[0]\n",
    "        file.write('chr' + str(chromosome) + '\\t' + str(loc-(length//2+1)) + '\\t' + str(loc+(length//2)) + '\\t\\t\\t' + '-' + '\\n')"
   ]
  },
  {
   "cell_type": "markdown",
   "metadata": {},
   "source": [
    "# 3) Get the sequence for each variant and store it in a fasta file"
   ]
  },
  {
   "cell_type": "code",
   "execution_count": null,
   "metadata": {},
   "outputs": [],
   "source": [
    "a = pybedtools.BedTool((dataset + '.bed'))\n",
    "a = a.sequence(fi = reference_fasta, fo = (dataset + '.fa.out'))"
   ]
  },
  {
   "cell_type": "markdown",
   "metadata": {},
   "source": [
    "# 4) Change the mutated base in the fasta sequence"
   ]
  },
  {
   "cell_type": "code",
   "execution_count": null,
   "metadata": {},
   "outputs": [],
   "source": [
    "fasta_sequences = SeqIO.parse(open((dataset + '.fa.out')),'fasta')\n",
    "\n",
    "# open the new fasta file to save the mutated sequences\n",
    "with open ((dataset + '_var.fa.out'), 'w') as file:\n",
    "    i = 0\n",
    "    for fasta in fasta_sequences:\n",
    "        name, sequence = fasta.id, str(fasta.seq)\n",
    "        \n",
    "        # write the reference sequence to the file\n",
    "        if reverse == True:\n",
    "            file.write('>' + variant_list[i] + '\\n' + reverse_sequence(sequence) + '\\n')\n",
    "        else:\n",
    "            file.write('>' + variant_list[i] + '\\n' + sequence + '\\n')\n",
    "\n",
    "        # variants where one base is changed\n",
    "        if info[i][0] == info[i][1] and info[i][2] != '':\n",
    "            # test if the base at the variant position in the sequence is the same as the reference base\n",
    "            assert sequence[(length//2)] == info[i][2]  \n",
    "            # change the base at the variant position\n",
    "            s = list(sequence)\n",
    "            s[(length//2)] = info[i][3]\n",
    "            sequence = ''.join(s)\n",
    "            # test if the base at the variant position in the sequence is now the same as the mutated base\n",
    "            assert sequence[(length//2)] == info[i][3]  \n",
    "            if reverse == True:\n",
    "                file.write('>' + variant_list[i] + '_var\\n' + reverse_sequence(sequence) + '\\n')\n",
    "            else:\n",
    "                file.write('>' + variant_list[i] + '_var\\n' + sequence + '\\n')\n",
    "        # filter for variants where one single base is deleted\n",
    "        elif info[i][0] == info[i][1]:\n",
    "            s = sequence[:(length//2)] + sequence[(length//2+1):]\n",
    "            if reverse == True:\n",
    "                file.write('>' + variant_list[i] + '_var\\n' + reverse_sequence(s) + '\\n')\n",
    "            else:\n",
    "                file.write('>' + variant_list[i] + '_var\\n' + s + '\\n')\n",
    "        # handle deletions with more bases\n",
    "        else:\n",
    "            size = info[i][1] - info[i][0]\n",
    "            s = sequence[:(length//2)] + sequence[((length//2+1) + size):]\n",
    "            if reverse == True:\n",
    "                file.write('>' + variant_list[i] + '_var\\n' + reverse_sequence(s) + '\\n')\n",
    "            else:\n",
    "                file.write('>' + variant_list[i] + '_var\\n' + s + '\\n')\n",
    "        i += 1\n",
    "        "
   ]
  }
 ],
 "metadata": {
  "kernelspec": {
   "display_name": "Python 3",
   "language": "python",
   "name": "python3"
  },
  "language_info": {
   "codemirror_mode": {
    "name": "ipython",
    "version": 3
   },
   "file_extension": ".py",
   "mimetype": "text/x-python",
   "name": "python",
   "nbconvert_exporter": "python",
   "pygments_lexer": "ipython3",
   "version": "3.7.6"
  }
 },
 "nbformat": 4,
 "nbformat_minor": 4
}
