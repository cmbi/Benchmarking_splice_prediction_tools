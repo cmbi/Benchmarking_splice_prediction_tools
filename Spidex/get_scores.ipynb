{
 "cells": [
  {
   "cell_type": "markdown",
   "metadata": {},
   "source": [
    "# Import"
   ]
  },
  {
   "cell_type": "code",
   "execution_count": null,
   "metadata": {},
   "outputs": [],
   "source": [
    "import pandas as pd\n",
    "from cyvcf2 import VCF"
   ]
  },
  {
   "cell_type": "code",
   "execution_count": null,
   "metadata": {},
   "outputs": [],
   "source": [
    "gene = 'MYBPC3'\n",
    "variants = 'NCSS'"
   ]
  },
  {
   "cell_type": "markdown",
   "metadata": {},
   "source": [
    "# Load the variants "
   ]
  },
  {
   "cell_type": "code",
   "execution_count": null,
   "metadata": {},
   "outputs": [],
   "source": [
    "# create a dataframe to store the variants\n",
    "data = pd.DataFrame(columns=['location', 'ref', 'alt', 'score'])\n",
    "\n",
    "locations = []\n",
    "\n",
    "# load the variants and store them in de dataframe\n",
    "for variant in VCF(('../SpliceAI/' + gene + '_' + variants + '_variants.vcf')): \n",
    "    data = data.append({'location': variant.POS, 'ref': variant.REF, 'alt': variant.ALT[0]}, ignore_index=True)\n",
    "    locations.append(variant.POS)\n",
    "    \n",
    "print(data.head())"
   ]
  },
  {
   "cell_type": "markdown",
   "metadata": {},
   "source": [
    "# Get the scores for chromsome 1 from the spidex.txt file"
   ]
  },
  {
   "cell_type": "code",
   "execution_count": null,
   "metadata": {},
   "outputs": [],
   "source": [
    "scores = []\n",
    "\n",
    "# open the file\n",
    "# file can be downloaded from http://tools.genes.toronto.edu/\n",
    "with open('hg19_spidex.txt') as f:\n",
    "    header = f.readline()\n",
    "    for line in f:\n",
    "        content = line.split('\\t')\n",
    "        # check if the variant is located on chromosome 11\n",
    "        if content[0] == '11':\n",
    "            # check if the variant position is included into the ABCA4 variant list\n",
    "            if int(content[1]) in locations:\n",
    "                scores.append(content)\n",
    "        elif content[0] == '12':\n",
    "            break\n"
   ]
  },
  {
   "cell_type": "code",
   "execution_count": null,
   "metadata": {},
   "outputs": [],
   "source": [
    "# create a dictionary to store for each position the score for each alternative base\n",
    "dict_scores = {}\n",
    "\n",
    "for row in scores:\n",
    "    position = int(row[1])\n",
    "    alt_base = row[4]\n",
    "    score = row[5]\n",
    "    if position in dict_scores.keys():\n",
    "        dict_scores[position].update({alt_base : score})\n",
    "    else:\n",
    "        dict_scores[position] = {alt_base : score}\n"
   ]
  },
  {
   "cell_type": "code",
   "execution_count": null,
   "metadata": {},
   "outputs": [],
   "source": [
    "# assign a score to each variant \n",
    "for index, row in data.iterrows():\n",
    "    try:\n",
    "        score = dict_scores[row['location']][row['alt']]\n",
    "    except:\n",
    "        score = 'n.a.'\n",
    "    data.at[index,'score'] = score\n",
    "    \n",
    "print(data)"
   ]
  },
  {
   "cell_type": "markdown",
   "metadata": {},
   "source": [
    "# Write the result to an excel file"
   ]
  },
  {
   "cell_type": "code",
   "execution_count": null,
   "metadata": {},
   "outputs": [],
   "source": [
    "data.to_excel(('spidex_' + gene + '_' + variants + '.xlsx'))"
   ]
  }
 ],
 "metadata": {
  "kernelspec": {
   "display_name": "Python 3",
   "language": "python",
   "name": "python3"
  },
  "language_info": {
   "codemirror_mode": {
    "name": "ipython",
    "version": 3
   },
   "file_extension": ".py",
   "mimetype": "text/x-python",
   "name": "python",
   "nbconvert_exporter": "python",
   "pygments_lexer": "ipython3",
   "version": "3.7.6"
  }
 },
 "nbformat": 4,
 "nbformat_minor": 4
}
