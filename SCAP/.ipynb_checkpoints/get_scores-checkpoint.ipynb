{
 "cells": [
  {
   "cell_type": "markdown",
   "metadata": {},
   "source": [
    "# Import"
   ]
  },
  {
   "cell_type": "code",
   "execution_count": null,
   "metadata": {},
   "outputs": [],
   "source": [
    "import pandas as pd\n",
    "from cyvcf2 import VCF"
   ]
  },
  {
   "cell_type": "markdown",
   "metadata": {},
   "source": [
    "# Define Variables"
   ]
  },
  {
   "cell_type": "code",
   "execution_count": null,
   "metadata": {},
   "outputs": [],
   "source": [
    "gene = 'MYBPC3'\n",
    "variants = 'NCSS'\n",
    "\n",
    "if gene == 'ABCA4':\n",
    "    chromosome = 1\n",
    "elif gene == 'MYBPC3':\n",
    "    chromosome = 11"
   ]
  },
  {
   "cell_type": "markdown",
   "metadata": {},
   "source": [
    "# Load the variants "
   ]
  },
  {
   "cell_type": "code",
   "execution_count": null,
   "metadata": {},
   "outputs": [],
   "source": [
    "# create a dataframe to store the variants\n",
    "data = pd.DataFrame(columns=['location', 'ref', 'alt', 'score'])\n",
    "\n",
    "locations = []\n",
    "\n",
    "# load the variants and store them in de dataframe\n",
    "for variant in VCF(('../SpliceAI/' + gene + '_' + variants + '_variants.vcf')): \n",
    "    data = data.append({'location': variant.POS, 'ref': variant.REF, 'alt': variant.ALT[0]}, ignore_index=True)\n",
    "    locations.append(variant.POS)\n",
    "    \n",
    "print(data.head())"
   ]
  },
  {
   "cell_type": "markdown",
   "metadata": {},
   "source": [
    "# Get the scores for the chromosome of interest"
   ]
  },
  {
   "cell_type": "code",
   "execution_count": null,
   "metadata": {},
   "outputs": [],
   "source": [
    "scores = []\n",
    "\n",
    "# open the file\n",
    "# scap file can be downloaded from http://bejerano.stanford.edu/scap/\n",
    "with open('scap_COMBINED_v1.0.vcf') as f:\n",
    "    header = f.readline()\n",
    "    for line in f:\n",
    "        content = line.split('\\t')\n",
    "        # check if the variant is located on chromosome 11\n",
    "        if content[0] ==  str(chromosome):\n",
    "            # check if the variant position is included into the ABCA4 variant list\n",
    "            if int(content[1]) in locations:\n",
    "                scores.append(content)\n",
    "        elif content[0] == str(chromosome + 1):\n",
    "            break"
   ]
  },
  {
   "cell_type": "markdown",
   "metadata": {},
   "source": [
    "# Get the score for each variant"
   ]
  },
  {
   "cell_type": "code",
   "execution_count": null,
   "metadata": {},
   "outputs": [],
   "source": [
    "for prediction in scores:\n",
    "\n",
    "    # get the position and alternative bases\n",
    "    pos = int(prediction[1])\n",
    "    alt = prediction[4]\n",
    "\n",
    "    # split the score for the different alternative bases\n",
    "    all_scores = (prediction[-1]).split(':')\n",
    "    # and store them in a dictionary \n",
    "    score = {}\n",
    "    score[alt[0]] = all_scores[2]\n",
    "    score[alt[2]] = all_scores[9]\n",
    "    score[alt[4]] = all_scores[16]\n",
    "\n",
    "    # look the position and the corresponing base up in the dataframe\n",
    "    i=data[data['location'] == pos]\n",
    "    try:\n",
    "        result = score[i.alt.item()]\n",
    "    except:\n",
    "        result = None\n",
    "\n",
    "    # store the index to assign the score to the right row in the dataframe\n",
    "    index = data.index[data['location'] == pos].tolist()[0]\n",
    "\n",
    "    # add the score to the dataframe\n",
    "    data.at[index,'score'] = result\n",
    "\n",
    "# write the result to a file\n",
    "data.to_excel(('scap_' + gene + '_' + variants + '.xlsx'))"
   ]
  }
 ],
 "metadata": {
  "kernelspec": {
   "display_name": "Python 3",
   "language": "python",
   "name": "python3"
  },
  "language_info": {
   "codemirror_mode": {
    "name": "ipython",
    "version": 3
   },
   "file_extension": ".py",
   "mimetype": "text/x-python",
   "name": "python",
   "nbconvert_exporter": "python",
   "pygments_lexer": "ipython3",
   "version": "3.7.6"
  }
 },
 "nbformat": 4,
 "nbformat_minor": 4
}
