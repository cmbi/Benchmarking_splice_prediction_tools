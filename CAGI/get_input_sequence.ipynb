{
 "cells": [
  {
   "cell_type": "markdown",
   "metadata": {},
   "source": [
    "The required input is a 170-mer base sequence with the mutated nucleotide converted as \"M\" (It should comprise both splicing sites as the original traing data)."
   ]
  },
  {
   "cell_type": "markdown",
   "metadata": {},
   "source": [
    "# Import"
   ]
  },
  {
   "cell_type": "code",
   "execution_count": null,
   "metadata": {},
   "outputs": [],
   "source": [
    "import pandas as pd\n",
    "import numpy as np\n",
    "import pybedtools\n",
    "from Bio import SeqIO\n",
    "import hgvs\n",
    "from hgvs.easy import *"
   ]
  },
  {
   "cell_type": "markdown",
   "metadata": {},
   "source": [
    "# Functions"
   ]
  },
  {
   "cell_type": "code",
   "execution_count": null,
   "metadata": {},
   "outputs": [],
   "source": [
    "def reverse_sequence(s):\n",
    "    ''' Converts a sequence into the sequence of the complementary strand'''\n",
    "    new_sequence = ''\n",
    "    for base in s:\n",
    "        if base == 'A':\n",
    "            new_sequence = new_sequence + 'T'\n",
    "        elif base == 'T':\n",
    "            new_sequence = new_sequence + 'A'\n",
    "        elif base == 'G':\n",
    "            new_sequence = new_sequence + 'C'\n",
    "        elif base == 'C':\n",
    "            new_sequence = new_sequence + 'G'\n",
    "        else:\n",
    "            new_sequence = new_sequence + base\n",
    "    return new_sequence[::-1]"
   ]
  },
  {
   "cell_type": "markdown",
   "metadata": {},
   "source": [
    "# Variables"
   ]
  },
  {
   "cell_type": "code",
   "execution_count": null,
   "metadata": {},
   "outputs": [],
   "source": [
    "gene = 'MYBPC3'\n",
    "variant = 'NCSS'\n",
    "\n",
    "# length of the generated fasta sequence\n",
    "length = 170\n",
    "# genome version\n",
    "genome = 'GRCh37'\n",
    "excel_file = '../variants_scores.xlsx'\n",
    "\n",
    "if gene == 'ABCA4':\n",
    "    chromosome = 1\n",
    "    reverse = True\n",
    "    # reference fasta can be downloaded from http://ftp.ensembl.org/pub/release-75/fasta/homo_sapiens/dna/Homo_sapiens.GRCh37.75.dna.chromosome.1.fa.gz\n",
    "    reference_fasta = '../Homo_sapiens.GRCh37.dna.chromosome.1.fa'\n",
    "    if variant == 'NCSS':\n",
    "        dataset = 'ABCA4_NCSS'\n",
    "        sheet_name = 'NCSS'\n",
    "    elif variant == 'DI':\n",
    "        dataset = 'ABCA4_DI'\n",
    "        sheet_name = 'DI'\n",
    "\n",
    "        \n",
    "elif gene == 'MYBPC3':\n",
    "    chromosome = 11\n",
    "    reverse = True\n",
    "    # reference fasta can be downloaded from https://www.ncbi.nlm.nih.gov/nuccore/NC_000011.9?report=fasta\n",
    "    reference_fasta = '../chr11.fa'\n",
    "    dataset = 'MYBPC3_NCSS'\n",
    "    sheet_name = 'NCSS'"
   ]
  },
  {
   "cell_type": "markdown",
   "metadata": {},
   "source": [
    "# Get the variant information"
   ]
  },
  {
   "cell_type": "code",
   "execution_count": null,
   "metadata": {},
   "outputs": [],
   "source": [
    "# Read the second column of the excel sheet and store the variants in a list\n",
    "df = pd.read_excel(excel_file, sheet_name ,index_col=None, usecols = 'B')\n",
    "variant_list = df['genomic variant'].tolist()\n",
    "\n",
    "# Store the cDNA variant information\n",
    "df2 = pd.read_excel(excel_file, sheet_name ,index_col=None, usecols = 'A')\n",
    "cDNA = df2['cDNA variant'].tolist()\n",
    "\n",
    "# Also store if it is a donor or acceptor site\n",
    "if variant == 'NCSS':\n",
    "    df3 = pd.read_excel(excel_file, sheet_name ,index_col=None, usecols = 'D')\n",
    "else:\n",
    "    df3 = pd.read_excel(excel_file, sheet_name ,index_col=None, usecols = 'E')\n",
    "ss = df3['affects'].tolist()"
   ]
  },
  {
   "cell_type": "markdown",
   "metadata": {},
   "source": [
    "# Store the variant information for later access"
   ]
  },
  {
   "cell_type": "code",
   "execution_count": null,
   "metadata": {},
   "outputs": [],
   "source": [
    "info = []\n",
    "\n",
    "hp = hgvs.parser.Parser()\n",
    "for i in range(len(variant_list)):\n",
    "    variant = variant_list[i]\n",
    "    v = hp.parse_hgvs_variant('Chr' + str(chromosome) + genome + ':' + variant)\n",
    "    \n",
    "    # Store the variant information so that it can be accessed separately\n",
    "    var_info = []\n",
    "    var_info.append(v.posedit.pos.start.base)\n",
    "    var_info.append(v.posedit.pos.end.base)\n",
    "    var_info.append(v.posedit.edit.ref)\n",
    "    var_info.append(v.posedit.edit.alt)\n",
    "    \n",
    "    # add if it affects a donor or acceptor\n",
    "    var_info.append(ss[i])\n",
    "    \n",
    "    # deletions are neglected for this tools because the input format does not support them\n",
    "    if v.posedit.edit.alt != None:\n",
    "        info.append(var_info)"
   ]
  },
  {
   "cell_type": "markdown",
   "metadata": {},
   "source": [
    "# Store the genomic locations in a BED file to retrieve the sequence later on"
   ]
  },
  {
   "cell_type": "code",
   "execution_count": null,
   "metadata": {},
   "outputs": [],
   "source": [
    "# The BED file defines the sequence range that is written to the fasta file later on\n",
    "with open ((dataset + '.bed'), 'w') as file:\n",
    "    for i in range(len(info)):\n",
    "        var_loc = info[i][0]\n",
    "        \n",
    "        # We want the acceptor to be located in the beginning of the sequence and the donor in the end of the sequence\n",
    "        if info[i][4] == 'acceptor':\n",
    "            loc = var_loc - 20\n",
    "            file.write('chr' + str(chromosome) + '\\t' + str(loc) + '\\t' + str(loc+length) + '\\t\\t\\t' + '-' + '\\n')\n",
    "        else:\n",
    "            loc = var_loc + 20\n",
    "            file.write('chr' + str(chromosome) + '\\t' + str(loc-length) + '\\t' + str(loc) + '\\t\\t\\t' + '-' + '\\n')\n"
   ]
  },
  {
   "cell_type": "markdown",
   "metadata": {},
   "source": [
    "# Get the fasta sequence for each variant"
   ]
  },
  {
   "cell_type": "code",
   "execution_count": null,
   "metadata": {},
   "outputs": [],
   "source": [
    "a = pybedtools.BedTool((dataset + '.bed'))\n",
    "a = a.sequence(fi = reference_fasta, fo = (dataset + '.fa.out'))"
   ]
  },
  {
   "cell_type": "markdown",
   "metadata": {},
   "source": [
    "# Change the mutated base to M and save the fasta sequences in a file"
   ]
  },
  {
   "cell_type": "code",
   "execution_count": null,
   "metadata": {},
   "outputs": [],
   "source": [
    "fasta_sequences = SeqIO.parse(open((dataset + '.fa.out')),'fasta')\n",
    "\n",
    "# open the new fasta file to save the mutated sequences\n",
    "with open ((dataset + '_var.fa.out'), 'w') as file:\n",
    "    i = 0\n",
    "    for fasta in fasta_sequences:\n",
    "        # get the name and sequence of each variant\n",
    "        name, sequence = fasta.id, str(fasta.seq)\n",
    "        \n",
    "        # get the location of the variant\n",
    "        if info[i][4] == 'acceptor':\n",
    "            loc = 19\n",
    "        else:\n",
    "            loc = 149\n",
    "            \n",
    "        # check if the base at the variant position is actual the base it is supposed to be\n",
    "        assert sequence[loc] == info[i][2]\n",
    "\n",
    "        # change the base at the variant position to M\n",
    "        l = list(sequence)\n",
    "        l[loc] = 'M'\n",
    "        s = ''.join(l)\n",
    "\n",
    "        #if neccessary convert the sequence to the complementary sequence\n",
    "        if reverse == True:\n",
    "            s = reverse_sequence(s)\n",
    "            \n",
    "        # write the result to a file\n",
    "        file.write('>' + str(info[i][0]) + str(info[i][2]) + '>' + str(info[i][3]) + '\\n' + s + '\\n') \n",
    "\n",
    "        i += 1"
   ]
  }
 ],
 "metadata": {
  "kernelspec": {
   "display_name": "Python 3",
   "language": "python",
   "name": "python3"
  },
  "language_info": {
   "codemirror_mode": {
    "name": "ipython",
    "version": 3
   },
   "file_extension": ".py",
   "mimetype": "text/x-python",
   "name": "python",
   "nbconvert_exporter": "python",
   "pygments_lexer": "ipython3",
   "version": "3.7.6"
  }
 },
 "nbformat": 4,
 "nbformat_minor": 4
}
