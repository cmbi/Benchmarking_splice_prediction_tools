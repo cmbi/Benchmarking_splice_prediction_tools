{
 "cells": [
  {
   "cell_type": "markdown",
   "metadata": {},
   "source": [
    "# Import"
   ]
  },
  {
   "cell_type": "code",
   "execution_count": null,
   "metadata": {},
   "outputs": [],
   "source": [
    "import pandas as pd"
   ]
  },
  {
   "cell_type": "code",
   "execution_count": null,
   "metadata": {},
   "outputs": [],
   "source": [
    "file = 'ABCA4_NCSS_output.vcf'\n",
    "excel_file = 'ABCA4_NCSS_50_scores.xlsx'\n",
    "\n",
    "# define a lsit to store the scores\n",
    "scores = []\n",
    "\n",
    "# open the file and read the scores\n",
    "with open(file, 'r') as f:\n",
    "    for line in f.readlines():\n",
    "        if 'SpliceAI=' in line:\n",
    "            variant = []\n",
    "            # first store the genomic location of the variant\n",
    "            variant.append(int(line.split('\\t')[1]))\n",
    "            result = line.split('\\t')[-1]\n",
    "            result = result.split('|')\n",
    "            # store the scores\n",
    "            for i in range(2,10):\n",
    "                variant.append(float(result[i]))\n",
    "            scores.append(variant)\n",
    "            \n",
    "            \n",
    "# convert the scores list to a dataframe and write to an excel sheet.\n",
    "df = pd.DataFrame.from_records(scores)\n",
    "# add column names\n",
    "df.columns = ['genomic_location', 'DS_AG', 'DS_AL', 'DS_DG', 'DS_DL', 'DP_AG', 'DP_AL', 'DP_DG', 'DP_DL']\n",
    "\n",
    "print(df.head())\n",
    "            \n",
    "df.to_excel(excel_file)"
   ]
  }
 ],
 "metadata": {
  "kernelspec": {
   "display_name": "Python 3",
   "language": "python",
   "name": "python3"
  },
  "language_info": {
   "codemirror_mode": {
    "name": "ipython",
    "version": 3
   },
   "file_extension": ".py",
   "mimetype": "text/x-python",
   "name": "python",
   "nbconvert_exporter": "python",
   "pygments_lexer": "ipython3",
   "version": "3.7.6"
  }
 },
 "nbformat": 4,
 "nbformat_minor": 4
}
