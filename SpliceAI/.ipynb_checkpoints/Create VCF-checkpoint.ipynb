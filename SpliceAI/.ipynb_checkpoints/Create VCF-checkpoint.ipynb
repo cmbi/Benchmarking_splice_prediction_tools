{
 "cells": [
  {
   "cell_type": "markdown",
   "metadata": {},
   "source": [
    "# Imports"
   ]
  },
  {
   "cell_type": "code",
   "execution_count": null,
   "metadata": {},
   "outputs": [],
   "source": [
    "import pandas as pd\n",
    "from datetime import date\n",
    "import hgvs\n",
    "from hgvs.easy import *"
   ]
  },
  {
   "cell_type": "code",
   "execution_count": null,
   "metadata": {},
   "outputs": [],
   "source": [
    "genename = 'ABCA4'\n",
    "variants = 'NCSS'\n",
    "\n",
    "path = '../variants_scores.xlsx'\n",
    "\n",
    "if genename == 'ABCA4':\n",
    "    gene = 'NM_000350.2'\n",
    "    genome = 'GRCh37'\n",
    "elif genename == 'LMNA':\n",
    "    gene = 'NM_170707.3'\n",
    "    genome = 'GRCh37'\n",
    "elif genename == 'MYBPC3':\n",
    "    gene = 'NM_000256.3'\n",
    "    genome = 'GRCh37'"
   ]
  },
  {
   "cell_type": "markdown",
   "metadata": {},
   "source": [
    "# Read in variants"
   ]
  },
  {
   "cell_type": "code",
   "execution_count": null,
   "metadata": {},
   "outputs": [],
   "source": [
    "df = pd.read_excel(io=path, sheet_name=variants)\n",
    "variant = []\n",
    "for name in df['cDNA variant']:\n",
    "    variant.append(name)"
   ]
  },
  {
   "cell_type": "markdown",
   "metadata": {},
   "source": [
    "# Convert the cDNA location to genomic location"
   ]
  },
  {
   "cell_type": "code",
   "execution_count": null,
   "metadata": {},
   "outputs": [],
   "source": [
    "# create a dictionary to store the values for the vcf file\n",
    "values = dict()\n",
    "\n",
    "# get the values for all the variants\n",
    "for name in variant:\n",
    "    \n",
    "    #create an empty dictionary to store the values\n",
    "    values[name] = {}\n",
    "    \n",
    "    # create a hgvs parser to convert cDNA location to genomic location\n",
    "    #if the variant is a deletion, we also want to write the previous base to the vcf file\n",
    "    if 'del' in name:\n",
    "        hp = hgvs.parser.Parser()\n",
    "        hgvs_var = hp.parse_hgvs_variant(gene + ':' + name)\n",
    "        hgvs_var.posedit.pos.start.base = hgvs_var.posedit.pos.start.base -1\n",
    "    \n",
    "    else:  \n",
    "        hp = hgvs.parser.Parser()\n",
    "        hgvs_var = hp.parse_hgvs_variant(gene + ':' + name)\n",
    "\n",
    "    hdp = hgvs.dataproviders.uta.connect()\n",
    "\n",
    "    am = hgvs.assemblymapper.AssemblyMapper(hdp, assembly_name=genome)\n",
    "    var_t = am.c_to_g(hgvs_var)\n",
    "\n",
    "    # get the chromosome\n",
    "    chromosome = int((var_t.ac).split('.')[0][-2:])\n",
    "    \n",
    "    # replace 23 with X and 24 with Y \n",
    "    if chromosome == '23':\n",
    "        chromosome = 'X'\n",
    "    elif chromosome == '24':\n",
    "        chromosome = 'Y'\n",
    "        \n",
    "    values[name]['CHROM'] = chromosome\n",
    "    \n",
    "    # get the position\n",
    "    values[name]['POS'] = var_t.posedit.pos.start.base\n",
    "    \n",
    "    # get the reference base\n",
    "    values[name]['REF'] = var_t.posedit.edit.ref\n",
    "        \n",
    "    # get the alternative base\n",
    "    values[name]['ALT'] = var_t.posedit.edit.alt\n",
    "    "
   ]
  },
  {
   "cell_type": "markdown",
   "metadata": {},
   "source": [
    "# Convert to Dataframe"
   ]
  },
  {
   "cell_type": "code",
   "execution_count": null,
   "metadata": {},
   "outputs": [],
   "source": [
    "vcf_data = pd.DataFrame.from_dict(values, orient='index')\n",
    "print(vcf_data.head())"
   ]
  },
  {
   "cell_type": "markdown",
   "metadata": {},
   "source": [
    "# Define reference genome"
   ]
  },
  {
   "cell_type": "code",
   "execution_count": null,
   "metadata": {},
   "outputs": [],
   "source": [
    "if genome == 'GRCh37':\n",
    "    genome = ['reference=GRCh37/hg19', 'contig=<ID=1,length=249250621>', 'contig=<ID=2,length=243199373>',\n",
    "              'contig=<ID=3,length=198022430>', 'contig=<ID=4,length=191154276>', 'contig=<ID=5,length=180915260>',\n",
    "              'contig=<ID=6,length=171115067>', 'contig=<ID=7,length=159138663>', 'contig=<ID=8,length=146364022>',\n",
    "              'contig=<ID=9,length=141213431>', 'contig=<ID=10,length=135534747>','contig=<ID=11,length=135006516>',\n",
    "              'contig=<ID=12,length=133851895>', 'contig=<ID=13,length=115169878.', 'contig=<ID=14,length=107349540>',\n",
    "              'contig=<ID=15,length=102531392>', 'contig=<ID=16,length=90354753>', 'contig=<ID=17,length=81195210>',\n",
    "              'contig=<ID=18,length=78077248>', 'contig=<ID=19,length=59128983>', 'contig=<ID=20,length=63025520>',\n",
    "              'contig=<ID=21,length=48129895>', 'contig=<ID=22,length=51304566>', 'contig=<ID=X,length=155270560>',\n",
    "              'contig=<ID=Y,length=59373566>']"
   ]
  },
  {
   "cell_type": "markdown",
   "metadata": {},
   "source": [
    "# Write to file"
   ]
  },
  {
   "cell_type": "code",
   "execution_count": null,
   "metadata": {},
   "outputs": [],
   "source": [
    "with open((genename + '_' + variants + '_variants.vcf'),'w') as file:\n",
    "    file.write('##fileformat=VCFv4.2\\n')\n",
    "\n",
    "    today = date.today().strftime(\"%m%d%Y\")\n",
    "    \n",
    "    file.write('##fileDate=' + str(today) + '\\n')\n",
    "    \n",
    "    for element in genome:\n",
    "        file.write('##' + element + '\\n')\n",
    "    \n",
    "    file.write('#CHROM\\tPOS\\tID\\tREF\\tALT\\tQUAL\\tFILTER\\tINFO\\n')\n",
    "    \n",
    "    for i in range(len(vcf_data)):\n",
    "        file.write(str(vcf_data.iloc[i]['CHROM']) + '\\t')\n",
    "        file.write(str(vcf_data.iloc[i]['POS']) + '\\t')\n",
    "        file.write('.' + '\\t')\n",
    "        file.write(str(vcf_data.iloc[i]['REF']) + '\\t')\n",
    "        if vcf_data.iloc[i]['ALT'] == None:\n",
    "            file.write(str(vcf_data.iloc[i]['REF'][0]) + '\\t')\n",
    "        else:\n",
    "            file.write(str(vcf_data.iloc[i]['ALT']) + '\\t')\n",
    "        file.write('.' + '\\t')\n",
    "        file.write('.' + '\\t')\n",
    "        file.write('.' + '\\n')"
   ]
  },
  {
   "cell_type": "markdown",
   "metadata": {},
   "source": [
    "Run this in the terminal:\n",
    "\n",
    "spliceai -I MYBPC3_NCSS_variants.vcf -O MYBPC3_NCSS_output.vcf -R ../data/hg19.fa -A grch37 -D 500"
   ]
  },
  {
   "cell_type": "code",
   "execution_count": null,
   "metadata": {},
   "outputs": [],
   "source": []
  }
 ],
 "metadata": {
  "kernelspec": {
   "display_name": "Python 3",
   "language": "python",
   "name": "python3"
  },
  "language_info": {
   "codemirror_mode": {
    "name": "ipython",
    "version": 3
   },
   "file_extension": ".py",
   "mimetype": "text/x-python",
   "name": "python",
   "nbconvert_exporter": "python",
   "pygments_lexer": "ipython3",
   "version": "3.7.6"
  }
 },
 "nbformat": 4,
 "nbformat_minor": 2
}
