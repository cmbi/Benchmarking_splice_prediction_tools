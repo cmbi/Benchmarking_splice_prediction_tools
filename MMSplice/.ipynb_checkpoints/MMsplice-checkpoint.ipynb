{
 "cells": [
  {
   "cell_type": "markdown",
   "metadata": {},
   "source": [
    "# Import"
   ]
  },
  {
   "cell_type": "code",
   "execution_count": null,
   "metadata": {},
   "outputs": [],
   "source": [
    "from mmsplice.vcf_dataloader import SplicingVCFDataloader\n",
    "from mmsplice import MMSplice, predict_all_table, predict_save\n",
    "from mmsplice.utils import max_varEff\n",
    "import cyvcf2\n",
    "from gtfparse import read_gtf\n",
    "import pandas as pd"
   ]
  },
  {
   "cell_type": "code",
   "execution_count": null,
   "metadata": {},
   "outputs": [],
   "source": [
    "variants = 'NCSS'\n",
    "gene = 'MYBPC3'"
   ]
  },
  {
   "cell_type": "markdown",
   "metadata": {},
   "source": [
    "# Get necessary files"
   ]
  },
  {
   "cell_type": "code",
   "execution_count": null,
   "metadata": {},
   "outputs": [],
   "source": [
    "# 1) Standard human gene annotation file in GTF format -> filtering for protein coding genes is recommended\n",
    "# can be downloaded from http://ftp.ensembl.org/pub/release-75/gtf/homo_sapiens/Homo_sapiens.GRCh37.75.gtf.gz\n",
    "gtf = 'Homo_sapiens.GRCh37.75.gtf'\n",
    "\n",
    "# 2) VCF file\n",
    "vcf = ('../SpliceAI/' + gene + '_' + variants + '_variants.vcf')\n",
    "\n",
    "# 3) Human reference fasta file from ensemble/gencode, chromosome names have to match with GTF file\n",
    "if gene == 'ABCA4' or gene == 'LMNA':\n",
    "    # reference fasta can be downloaded from http://ftp.ensembl.org/pub/release-75/fasta/homo_sapiens/dna/Homo_sapiens.GRCh37.75.dna.chromosome.1.fa.gz\n",
    "    fasta = 'Homo_sapiens.GRCh37.dna_rm.chromosome.1.fa'\n",
    "if gene == 'MYBPC3':\n",
    "    # reference fasta can be downloaded from https://www.ncbi.nlm.nih.gov/nuccore/NC_000011.9?report=fasta\n",
    "    fasta = 'chr11.fa'\n",
    "    \n",
    "csv = ('mtsplice_predictions_' + gene + '_' + variants + '.csv')"
   ]
  },
  {
   "cell_type": "markdown",
   "metadata": {},
   "source": [
    "# Filter the gtf file for variants in the gene of interest"
   ]
  },
  {
   "cell_type": "code",
   "execution_count": null,
   "metadata": {},
   "outputs": [],
   "source": [
    "# read all transcripts from the gtf file\n",
    "df = pd.read_csv(gtf, sep='\\t', header=None)\n",
    "\n",
    "# filter for transcripts of the gene of interest\n",
    "ABCA4 = df[8].str.contains(gene)\n",
    "result = df[ABCA4]\n",
    "print(result.head())\n",
    "\n",
    "# write the result to a csv file for reuse\n",
    "new_gtf = ('Homo_sapiens_' + gene + '_all.GRCh37.75.gtf')\n",
    "result.to_csv(new_gtf , sep='\\t', index=False, header=None)"
   ]
  },
  {
   "cell_type": "markdown",
   "metadata": {},
   "source": [
    "# Predict the scores"
   ]
  },
  {
   "cell_type": "code",
   "execution_count": null,
   "metadata": {
    "scrolled": false
   },
   "outputs": [],
   "source": [
    "# dataloader to load variants from vcf\n",
    "# set tissue_specific = False for MMSplice and tissue_specific = True for MTSplice\n",
    "dl = SplicingVCFDataloader(new_gtf , fasta, vcf, tissue_specific = True)\n",
    "\n",
    "# Specify model\n",
    "model = MMSplice()\n",
    "\n",
    "# predict and save to csv file\n",
    "predict_save(model, dl, csv, pathogenicity=True, splicing_efficiency=True)\n",
    "\n",
    "# Or predict and return as df\n",
    "#predictions = predict_all_table(model, dl, pathogenicity=True, splicing_efficiency=True)\n",
    "\n",
    "# Summerize with maximum effect size\n",
    "#predictionsMax = max_varEff(predictions)"
   ]
  },
  {
   "cell_type": "code",
   "execution_count": null,
   "metadata": {},
   "outputs": [],
   "source": [
    "#print(predictionsMax['delta_logit_psi'])"
   ]
  }
 ],
 "metadata": {
  "kernelspec": {
   "display_name": "Python 3",
   "language": "python",
   "name": "python3"
  },
  "language_info": {
   "codemirror_mode": {
    "name": "ipython",
    "version": 3
   },
   "file_extension": ".py",
   "mimetype": "text/x-python",
   "name": "python",
   "nbconvert_exporter": "python",
   "pygments_lexer": "ipython3",
   "version": "3.7.6"
  }
 },
 "nbformat": 4,
 "nbformat_minor": 4
}
