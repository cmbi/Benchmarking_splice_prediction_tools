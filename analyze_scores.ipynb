{
 "cells": [
  {
   "cell_type": "markdown",
   "metadata": {},
   "source": [
    "# Imports"
   ]
  },
  {
   "cell_type": "code",
   "execution_count": null,
   "metadata": {},
   "outputs": [],
   "source": [
    "import numpy as np\n",
    "import pandas as pd\n",
    "import matplotlib.pyplot as plt\n",
    "import scipy.stats\n",
    "from sklearn.metrics import roc_curve\n",
    "\n",
    "from sklearn import metrics\n",
    "import matplotlib.font_manager as font_manager\n",
    "from functions import read_scores_from_excel"
   ]
  },
  {
   "cell_type": "markdown",
   "metadata": {},
   "source": [
    "# Define variables"
   ]
  },
  {
   "cell_type": "code",
   "execution_count": null,
   "metadata": {},
   "outputs": [],
   "source": [
    "# define the variants that should be analyzed\n",
    "# ABCA4_NCSS, ABCA4_DI or MYBPC3_NCSS\n",
    "variants = 'ABCA4_DI'\n",
    "\n",
    "# Define the column headers that are used in the dataframe. For DI variants MMSplice, MTSPlice, S-CAP and SPIDEX are excluded.\n",
    "if 'NCSS' in variants:\n",
    "    column_names = ['RNA','CADD','DSSP','GeneSplicer', 'MaxEntScan', 'MMSplice', 'MTSplice', 'NNSPLICE', 'S-CAP', 'SPIDEX', 'SpliceAI', 'SpliceRover', 'SpliceSiteFinder-like']\n",
    "else:\n",
    "     column_names = ['RNA','CADD','DSSP','GeneSplicer', 'MaxEntScan', 'NNSPLICE', 'SpliceAI', 'SpliceRover', 'SpliceSiteFinder-like']"
   ]
  },
  {
   "cell_type": "markdown",
   "metadata": {},
   "source": [
    "# Import the scores, calculate delta scores and store them in a dataframe"
   ]
  },
  {
   "cell_type": "code",
   "execution_count": null,
   "metadata": {},
   "outputs": [],
   "source": [
    "delta_df = read_scores_from_excel('variants_scores.xlsx', variants)\n",
    "delta_df.columns = column_names\n",
    "\n",
    "print(delta_df.head())"
   ]
  },
  {
   "cell_type": "markdown",
   "metadata": {},
   "source": [
    "# ROC curves"
   ]
  },
  {
   "cell_type": "code",
   "execution_count": null,
   "metadata": {},
   "outputs": [],
   "source": [
    "names = column_names[1:]\n",
    "\n",
    "# prepare the data \n",
    "\n",
    "# 1) List with classification (0,1)\n",
    "label = []\n",
    "for index in delta_df.index:\n",
    "    value = delta_df.at[index,'RNA']\n",
    "    if value > 0.2:\n",
    "        label.append(1)\n",
    "    else:\n",
    "        label.append(0)\n",
    "label = np.array(label)\n",
    "\n",
    "# 2) list with probabilities predicted by the splicing prediction program \n",
    "probabilities = []\n",
    "for name in names:\n",
    "    probabilities.append(np.array(delta_df[name].tolist()))\n",
    "\n",
    "# 3) Add the alamut consensus\n",
    "\n",
    "if 'NCSS' in variants:\n",
    "    loc = [2,3,6,11]\n",
    "else:\n",
    "    loc = [2,3,4,7]\n",
    "alamut3 = []\n",
    "\n",
    "for i in range(len(probabilities[0])):\n",
    "    p = [probabilities[j][i] for j in loc]\n",
    "    largest_integer = max(p) \n",
    "    p.remove(largest_integer)\n",
    "    second_largest_integer = max(p)\n",
    "    p.remove(second_largest_integer)\n",
    "    third_largest_integer = max(p)\n",
    "    alamut3.append((largest_integer + second_largest_integer + third_largest_integer)/3)\n",
    "\n",
    "probabilities.insert(0,alamut3)\n",
    "\n",
    "names.insert(0,'Alamut 3/4')\n",
    "\n",
    "# 4) Define the colors for the lines    \n",
    "colors = {'Alamut 3/4': 'olive', 'CADD' : 'green', 'DSSP' : 'lawngreen',\n",
    "          'GeneSplicer' : 'cyan', 'MaxEntScan' : 'dodgerblue', 'MMSplice' : 'blue', 'MTSplice' : 'purple',\n",
    "          'NNSPLICE' : 'red', 'S-CAP' : 'hotpink', 'SPIDEX' : 'pink', 'SpliceAI' : 'darkorange',\n",
    "          'SpliceRover' : 'gold', 'SpliceSiteFinder-like' : 'saddlebrown'}"
   ]
  },
  {
   "cell_type": "code",
   "execution_count": null,
   "metadata": {},
   "outputs": [],
   "source": [
    "# create a dictionary to store the AUC values\n",
    "aucs = {}\n",
    "\n",
    "# Plot the ROC curve\n",
    "plt.figure(figsize=(10,10))\n",
    "for i in range(len(probabilities)):\n",
    "    prob = probabilities[i]\n",
    "    fper, tper, thresholds = roc_curve(label, prob, pos_label=1) \n",
    "    auc = metrics.roc_auc_score(label, prob)\n",
    "    aucs[i] = auc\n",
    "    plt.plot(fper, tper, color=colors[names[i]], label=names[i]) # + ': ' + \"{0:0.2f}\".format(auc))\n",
    "\n",
    "font_prop = font_manager.FontProperties(size=18)\n",
    "    \n",
    "plt.plot([0, 1], [0, 1], color='darkblue', linestyle='--')\n",
    "plt.xlabel('False Positive Rate', size=18)\n",
    "plt.ylabel('True Positive Rate', size = 18)\n",
    "plt.title(('ROC Curve ' + variants + ' variants'), size = 20)\n",
    "plt.tick_params(labelsize=18)\n",
    "plt.legend(prop=font_prop)\n",
    "plt.savefig(('ROC_' + variants + '.svg'),format='svg', dpi=1200)\n",
    "plt.show()"
   ]
  },
  {
   "cell_type": "code",
   "execution_count": null,
   "metadata": {},
   "outputs": [],
   "source": [
    "print(aucs)"
   ]
  },
  {
   "cell_type": "code",
   "execution_count": null,
   "metadata": {},
   "outputs": [],
   "source": []
  }
 ],
 "metadata": {
  "kernelspec": {
   "display_name": "Python 3",
   "language": "python",
   "name": "python3"
  },
  "language_info": {
   "codemirror_mode": {
    "name": "ipython",
    "version": 3
   },
   "file_extension": ".py",
   "mimetype": "text/x-python",
   "name": "python",
   "nbconvert_exporter": "python",
   "pygments_lexer": "ipython3",
   "version": "3.7.6"
  }
 },
 "nbformat": 4,
 "nbformat_minor": 2
}
