{
 "cells": [
  {
   "cell_type": "markdown",
   "metadata": {},
   "source": [
    "# Imports"
   ]
  },
  {
   "cell_type": "code",
   "execution_count": null,
   "metadata": {},
   "outputs": [],
   "source": [
    "import numpy as np\n",
    "import pandas as pd\n",
    "import matplotlib.pyplot as plt\n",
    "import scipy.stats\n",
    "from sklearn.metrics import roc_curve\n",
    "\n",
    "from sklearn import metrics\n",
    "import matplotlib.font_manager as font_manager\n",
    "from numpy import nan"
   ]
  },
  {
   "cell_type": "markdown",
   "metadata": {},
   "source": [
    "# Define variables"
   ]
  },
  {
   "cell_type": "code",
   "execution_count": null,
   "metadata": {},
   "outputs": [],
   "source": [
    "# define the variants that should be analyzed\n",
    "# ABCA4_NCSS, ABCA4_DI or MYBPC3_NCSS\n",
    "variants = 'ABCA4_NCSS'\n",
    "\n",
    "# Define the column headers that are used in the dataframe\n",
    "if 'NCSS' in variants:\n",
    "    column_names = ['RNA','CADD','DSSP','GeneSplicer', 'MaxEntScan', 'MMSplice', 'MTSplice', 'NNSPLICE', 'S-CAP', 'SPIDEX', 'SpliceAI', 'SpliceRover', 'SpliceSiteFinder-like']\n",
    "else:\n",
    "     column_names = ['RNA','CADD','DSSP','GeneSplicer', 'MaxEntScan', 'NNSPLICE', 'SpliceAI', 'SpliceRover', 'SpliceSiteFinder-like']"
   ]
  },
  {
   "cell_type": "markdown",
   "metadata": {},
   "source": [
    "# Import the scores into a dataframe"
   ]
  },
  {
   "cell_type": "code",
   "execution_count": null,
   "metadata": {},
   "outputs": [],
   "source": [
    "# store the scores in a dataframe\n",
    "di = pd.read_excel('variants_scores.xlsx', variants)\n",
    "\n",
    "# replace missing values with 0\n",
    "di = di.replace(nan, 0)"
   ]
  },
  {
   "cell_type": "markdown",
   "metadata": {},
   "source": [
    "# Calculate the delta values "
   ]
  },
  {
   "cell_type": "code",
   "execution_count": null,
   "metadata": {},
   "outputs": [],
   "source": [
    "def delta_score(name, index):\n",
    "    '''calulate the delta score \n",
    "    @param name: name of the splice prediction tool\n",
    "    @param index: index of the scores\n",
    "    '''\n",
    "    wt = name + '_wt'\n",
    "    var = name + '_var'\n",
    "    if di.at[index,wt] == 0:\n",
    "        score = float(di.at[index,var])/alamut[name]\n",
    "    else: \n",
    "        score = (float(di.at[index,var])-float(di.at[index,wt]))/float(di.at[index,wt])\n",
    "    return np.absolute(score)"
   ]
  },
  {
   "cell_type": "code",
   "execution_count": null,
   "metadata": {},
   "outputs": [],
   "source": [
    "# Define the name of the alamut programs with corresponding max value\n",
    "delta = dict()\n",
    "delta['SSFL'] = 100\n",
    "delta['MES'] = 12\n",
    "delta['NNS'] = 1\n",
    "delta['GS'] = 15\n",
    "delta['SpliceRover'] = 1\n",
    "delta['DSSP'] = 1\n",
    "\n",
    "# create a dictionary to store the values\n",
    "delta_scores = dict()\n",
    "\n",
    "for index in di.index:\n",
    "        \n",
    "    element = []\n",
    "    \n",
    "    # get the % mutant RNA\n",
    "    value = di.at[index,'% Mutant RNA']\n",
    "    if value > 20:\n",
    "        element.append(1)\n",
    "    else:\n",
    "        element.append(0)\n",
    "    \n",
    "    # add the absolute value of the CADD score \n",
    "    element.append(np.absolute(di.at[index,'CADD']))\n",
    "    \n",
    "    # add the DSSP score \n",
    "    element.append(delta_score('DSSP', index))\n",
    "    \n",
    "    # add the GeneSplicer score \n",
    "    element.append(delta_score('GS', index))\n",
    "    \n",
    "    # add the MaxEntScan score \n",
    "    element.append(delta_score('MES', index))\n",
    "    \n",
    "    if 'NCSS' in variants:\n",
    "\n",
    "        # add the absolute value of the MMsplice score \n",
    "        element.append(np.absolute(di.at[index,'MMSplice']))\n",
    "\n",
    "        # add the absolute value of the MMsplice score\n",
    "        element.append(np.absolute(di.at[index,'MTSplice']))\n",
    "    \n",
    "    # add the NNSPLICE score \n",
    "    element.append(delta_score('NNS', index))\n",
    "    \n",
    "    if 'NCSS' in variants:\n",
    "        \n",
    "        # add the S-SCAP score\n",
    "        element.append(np.absolute(di.at[index,'SCAP']))\n",
    "    \n",
    "        # add the absolute value of the SPIDEX score\n",
    "        element.append(np.absolute(di.at[index,'Spidex']))\n",
    " \n",
    "    # add the SpliceAI score \n",
    "    element.append(di.at[index,'SpliceAI'])\n",
    "    \n",
    "    # add  the SpliceRover score \n",
    "    element.append(delta_score('SpliceRover', index))\n",
    "    \n",
    "    # add the SSFL score \n",
    "    element.append(delta_score('SSFL', index))\n",
    "\n",
    "        \n",
    "    delta_scores[index] = element\n",
    "\n",
    "delta_df = pd.DataFrame(delta_scores)\n",
    "delta_df = delta_df.transpose()\n",
    "delta_df.columns = column_names\n",
    "\n",
    "print(delta_df.head())"
   ]
  },
  {
   "cell_type": "markdown",
   "metadata": {},
   "source": [
    "# ROC curves"
   ]
  },
  {
   "cell_type": "code",
   "execution_count": null,
   "metadata": {},
   "outputs": [],
   "source": [
    "names = column_names[1:]\n",
    "\n",
    "# prepare the data \n",
    "\n",
    "# 1) List with classification (0,1)\n",
    "label = []\n",
    "for index in delta_df.index:\n",
    "    value = delta_df.at[index,'RNA']\n",
    "    if value > 0.2:\n",
    "        label.append(1)\n",
    "    else:\n",
    "        label.append(0)\n",
    "label = np.array(label)\n",
    "\n",
    "# 2) list with probabilities predicted by the splicing prediction program \n",
    "probabilities = []\n",
    "for name in names:\n",
    "    probabilities.append(np.array(delta_df[name].tolist()))\n",
    "\n",
    "# 3) Add the alamut consensus\n",
    "\n",
    "if 'NCSS' in variants:\n",
    "    loc = [2,3,6,11]\n",
    "else:\n",
    "    loc = [2,3,4,7]\n",
    "alamut3 = []\n",
    "\n",
    "for i in range(len(probabilities[0])):\n",
    "    p = [probabilities[j][i] for j in loc]\n",
    "    largest_integer = max(p) \n",
    "    p.remove(largest_integer)\n",
    "    second_largest_integer = max(p)\n",
    "    p.remove(second_largest_integer)\n",
    "    third_largest_integer = max(p)\n",
    "    alamut3.append((largest_integer + second_largest_integer + third_largest_integer)/3)\n",
    "\n",
    "probabilities.insert(0,alamut3)\n",
    "\n",
    "names.insert(0,'Alamut 3/4')\n",
    "\n",
    "# 4) Define the colors for the lines    \n",
    "colors = {'Alamut 3/4': 'olive', 'CADD' : 'green', 'DSSP' : 'lawngreen',\n",
    "          'GeneSplicer' : 'cyan', 'MaxEntScan' : 'lightskyblue', 'MMSplice' : 'blue', 'MTSplice' : 'purple',\n",
    "          'NNSPLICE' : 'red', 'S-CAP' : 'hotpink', 'SPIDEX' : 'pink', 'SpliceAI' : 'orange',\n",
    "          'SpliceRover' : 'gold', 'SpliceSiteFinder-like' : 'grey'}"
   ]
  },
  {
   "cell_type": "code",
   "execution_count": null,
   "metadata": {},
   "outputs": [],
   "source": [
    "# create a dictionary to store the AUC values\n",
    "aucs = {}\n",
    "\n",
    "# Plot the ROC curve\n",
    "plt.figure(figsize=(10,10))\n",
    "for i in range(len(probabilities)):\n",
    "    prob = probabilities[i]\n",
    "    fper, tper, thresholds = roc_curve(label, prob, pos_label=1) \n",
    "    auc = metrics.roc_auc_score(label, prob)\n",
    "    aucs[i] = auc\n",
    "    plt.plot(fper, tper, color=colors[names[i]], label=names[i]) # + ': ' + \"{0:0.2f}\".format(auc))\n",
    "\n",
    "font_prop = font_manager.FontProperties(size=18)\n",
    "    \n",
    "plt.plot([0, 1], [0, 1], color='darkblue', linestyle='--')\n",
    "plt.xlabel('False Positive Rate', size=18)\n",
    "plt.ylabel('True Positive Rate', size = 18)\n",
    "plt.title(('ROC Curve ' + variants + ' variants'), size = 20)\n",
    "plt.tick_params(labelsize=18)\n",
    "plt.legend(prop=font_prop)\n",
    "plt.savefig(('ROC_' + variants + '.svg'),format='svg', dpi=1200)\n",
    "plt.show()\n"
   ]
  },
  {
   "cell_type": "code",
   "execution_count": null,
   "metadata": {},
   "outputs": [],
   "source": [
    "print(aucs)"
   ]
  },
  {
   "cell_type": "code",
   "execution_count": null,
   "metadata": {},
   "outputs": [],
   "source": []
  }
 ],
 "metadata": {
  "kernelspec": {
   "display_name": "Python 3",
   "language": "python",
   "name": "python3"
  },
  "language_info": {
   "codemirror_mode": {
    "name": "ipython",
    "version": 3
   },
   "file_extension": ".py",
   "mimetype": "text/x-python",
   "name": "python",
   "nbconvert_exporter": "python",
   "pygments_lexer": "ipython3",
   "version": "3.7.6"
  }
 },
 "nbformat": 4,
 "nbformat_minor": 2
}
